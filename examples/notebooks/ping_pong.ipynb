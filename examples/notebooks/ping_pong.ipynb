{
  "cells": [
    {
      "cell_type": "markdown",
      "metadata": {},
      "source": [
        "# Monarch\n",
        "\n",
        "One of Monarch's more powerful features is its Actor/endpoint API, which provides a generic interface for distributed computing. In this notebook, we introduce some of the basics"
      ]
    },
    {
      "cell_type": "markdown",
      "metadata": {},
      "source": [
        "## Hello World\n",
        "Actors are spawned in Process meshes via the `monarch.actor` API. For those familiar with distributed systems, it can be helpful to think of each Actor as a server with endpoints that can be called."
      ]
    },
    {
      "cell_type": "code",
      "execution_count": 1,
      "metadata": {},
      "outputs": [],
      "source": [
        "import asyncio\n",
        "\n",
        "from monarch.actor import proc_mesh, ProcMesh\n",
        "from monarch.actor import Actor, endpoint, current_rank\n",
        "\n",
        "NUM_ACTORS=4\n",
        "\n",
        "class ToyActor(Actor):\n",
        "    def __init__(self):\n",
        "        self.rank = current_rank().rank\n",
        "\n",
        "    @endpoint\n",
        "    async def hello_world(self, msg):\n",
        "        print(f\"Identity: {self.rank}, {msg=}\")\n",
        "\n",
        "# Note: Meshes can be also be created on different nodes, but we're ignoring that in this example\n",
        "local_proc_mesh = await proc_mesh(gpus=NUM_ACTORS)\n",
        "# This spawns 4 instances of 'ToyActor'\n",
        "toy_actor = await local_proc_mesh.spawn(\"toy_actor\", ToyActor)"
      ]
    },
    {
      "cell_type": "code",
      "execution_count": 2,
      "metadata": {
        "output": {
          "id": 2192847251138967,
          "loadingStatus": "loaded"
        }
      },
      "outputs": [
        {
          "name": "stdout",
          "output_type": "stream",
          "text": [
            "Identity: 2, msg='hey there, from jupyter!!'\n",
            "Identity: 3, msg='hey there, from jupyter!!'\n",
            "Identity: 1, msg='hey there, from jupyter!!'\n",
            "Identity: 0, msg='hey there, from jupyter!!'\n"
          ]
        },
        {
          "data": {
            "text/plain": [
              "ValueMesh({hosts=1,gpus=4})"
            ]
          },
          "execution_count": 16,
          "metadata": {},
          "output_type": "execute_result"
        }
      ],
      "source": [
        "# Once actors are spawned, we can call all of them simultaneously with `Actor.endpoint.call` as below\n",
        "await toy_actor.hello_world.call(\"hey there, from jupyter!!\")"
      ]
    },
    {
      "cell_type": "code",
      "execution_count": null,
      "metadata": {},
      "outputs": [],
      "source": [
        "# We can also specify a single actor using the 'slice' API\n",
        "futures = []\n",
        "for idx in range(NUM_ACTORS):\n",
        "    actor_instance = toy_actor.slice(gpus=idx)\n",
        "    futures.append(actor_instance.hello_world.call_one(f\"Here's an arbitrary unique value: {idx}\"))\n",
        "\n",
        "# conveniently, we can still schedule & gather them in parallel using asyncio\n",
        "await asyncio.gather(*futures)"
      ]
    },
    {
      "cell_type": "markdown",
      "metadata": {},
      "source": [
        "## Ping Pong\n",
        "Not only is it possible to call endpoints froma 'main' fuction, but actors have the useful property of being able to communicate with one another. "
      ]
    },
    {
      "cell_type": "code",
      "execution_count": 1,
      "metadata": {},
      "outputs": [
        {
          "name": "stderr",
          "output_type": "stream",
          "text": [
            "WARNING:root:RDMA is not available on this platform\n"
          ]
        }
      ],
      "source": [
        "import asyncio\n",
        "\n",
        "from monarch.actor import proc_mesh, ProcMesh\n",
        "from monarch.actor import Actor, endpoint, current_rank\n",
        "\n",
        "class ExampleActor(Actor):\n",
        "    def __init__(self, actor_name):\n",
        "        self.actor_name=actor_name\n",
        "\n",
        "    @endpoint\n",
        "    async def init(self, other_actor):\n",
        "        self.other_actor = other_actor\n",
        "        self.other_actor_pair = other_actor.slice(**current_rank())\n",
        "        self.identity = current_rank().rank\n",
        "\n",
        "    @endpoint\n",
        "    async def send(self, msg):\n",
        "         await self.other_actor_pair.recv.call(f\"Sender ({self.actor_name}:{self.identity}) {msg=}\")\n",
        "\n",
        "    @endpoint\n",
        "    async def recv(self, msg):\n",
        "        print(f\"Pong!, Receiver ({self.actor_name}:{self.identity}) received msg {msg}\")\n",
        "\n",
        "# Spawn two different Actors in different meshes, with two instances each\n",
        "local_mesh_0 = await proc_mesh(gpus=4)\n",
        "actor_0 = await local_mesh_0.spawn(\n",
        "    \"actor_0\",\n",
        "    ExampleActor,\n",
        "    \"actor_0\"     # this arg is passed to ExampleActor.__init__\n",
        ")\n",
        "\n",
        "local_mesh_1 = await proc_mesh(gpus=4)\n",
        "actor_1 = await local_mesh_1.spawn(\n",
        "    \"actor_1\",\n",
        "    ExampleActor,\n",
        "    \"actor_1\"     # this arg is passed to ExampleActor.__init__\n",
        ")\n"
      ]
    },
    {
      "cell_type": "code",
      "execution_count": 2,
      "metadata": {},
      "outputs": [
        {
          "data": {
            "text/plain": [
              "[ValueMesh({hosts=1,gpus=4}), ValueMesh({hosts=1,gpus=4})]"
            ]
          },
          "execution_count": 5,
          "metadata": {},
          "output_type": "execute_result"
        }
      ],
      "source": [
        "# Initialize each actor with references to each other\n",
        "await asyncio.gather(\n",
        "    actor_0.init.call(actor_1),\n",
        "    actor_1.init.call(actor_0),\n",
        ")"
      ]
    },
    {
      "cell_type": "code",
      "execution_count": 3,
      "metadata": {},
      "outputs": [
        {
          "name": "stdout",
          "output_type": "stream",
          "text": [
            "Pong!, Receiver (actor_1:2) received msg Sender (actor_0:2) msg='Ping'\n",
            "Pong!, Receiver (actor_1:0) received msg Sender (actor_0:0) msg='Ping'\n",
            "Pong!, Receiver (actor_1:3) received msg Sender (actor_0:3) msg='Ping'\n",
            "Pong!, Receiver (actor_1:1) received msg Sender (actor_0:1) msg='Ping'\n"
          ]
        },
        {
          "data": {
            "text/plain": [
              "ValueMesh({hosts=1,gpus=4})"
            ]
          },
          "execution_count": 6,
          "metadata": {},
          "output_type": "execute_result"
        }
      ],
      "source": [
        "await actor_0.send.call(\"Ping\")"
      ]
    },
    {
      "cell_type": "code",
      "execution_count": 4,
      "metadata": {},
      "outputs": [
        {
          "name": "stdout",
          "output_type": "stream",
          "text": [
            "Pong!, Receiver (actor_0:0) received msg Sender (actor_1:0) msg='Ping'\n",
            "Pong!, Receiver (actor_0:1) received msg Sender (actor_1:1) msg='Ping'\n",
            "Pong!, Receiver (actor_0:2) received msg Sender (actor_1:2) msg='Ping'\n",
            "Pong!, Receiver (actor_0:3) received msg Sender (actor_1:3) msg='Ping'\n"
          ]
        },
        {
          "data": {
            "text/plain": [
              "ValueMesh({hosts=1,gpus=4})"
            ]
          },
          "execution_count": 7,
          "metadata": {},
          "output_type": "execute_result"
        }
      ],
      "source": [
        "await actor_1.send.call(\"Ping\")"
      ]
    },
    {
      "cell_type": "code",
      "execution_count": 5,
      "metadata": {},
      "outputs": [
        {
          "data": {
            "text/plain": [
              "<monarch._src.actor.future.Future at 0x7f9e69c88700>"
            ]
          },
          "execution_count": 8,
          "metadata": {},
          "output_type": "execute_result"
        },
        {
          "name": "stdout",
          "output_type": "stream",
          "text": [
            "Pong!, Receiver (actor_1:0) received msg Sender (actor_0:0) msg='Ping'\n",
            "Pong!, Receiver (actor_1:1) received msg Sender (actor_0:1) msg='Ping'\n",
            "Pong!, Receiver (actor_1:3) received msg Sender (actor_0:3) msg='Ping'\n",
            "Pong!, Receiver (actor_1:2) received msg Sender (actor_0:2) msg='Ping'\n"
          ]
        }
      ],
      "source": [
        "actor_0.send.call(\"Ping\")"
      ]
    },
    {
      "cell_type": "code",
      "execution_count": null,
      "metadata": {},
      "outputs": [],
      "source": []
    }
  ],
  "metadata": {
    "orig_nbformat": 4
  }
}
